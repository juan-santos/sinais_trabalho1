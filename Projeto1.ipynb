{
  "nbformat": 4,
  "nbformat_minor": 2,
  "metadata": {
    "kernelspec": {
      "name": "python3",
      "display_name": "Python 3.8.10 64-bit"
    },
    "language_info": {
      "codemirror_mode": {
        "name": "ipython",
        "version": 3
      },
      "file_extension": ".py",
      "mimetype": "text/x-python",
      "name": "python",
      "nbconvert_exporter": "python",
      "pygments_lexer": "ipython3",
      "version": "3.8.10"
    },
    "colab": {
      "name": "Projeto1.ipynb",
      "provenance": [],
      "collapsed_sections": []
    },
    "interpreter": {
      "hash": "31f2aee4e71d21fbe5cf8b01ff0e069b9275f58929596ceb00d14d90e3e16cd6"
    }
  },
  "cells": [
    {
      "cell_type": "markdown",
      "source": [
        "# 1o Trabalho de PSD (notebook para preencher com os resultados)"
      ],
      "metadata": {}
    },
    {
      "cell_type": "markdown",
      "source": [
        "### Número do Grupo : 14"
      ],
      "metadata": {}
    },
    {
      "cell_type": "code",
      "execution_count": 80,
      "source": [
        "import sk_dsp_comm.sigsys as ss\n",
        "import numpy as np\n",
        "from matplotlib import pylab\n",
        "from pylab import *\n",
        "import scipy.signal as signal\n",
        "from IPython.display import Audio, display\n",
        "from IPython.display import Image, SVG"
      ],
      "outputs": [],
      "metadata": {
        "jupyter": {
          "outputs_hidden": false
        }
      }
    },
    {
      "cell_type": "code",
      "execution_count": 81,
      "source": [
        "pylab.rcParams['savefig.dpi'] = 100 # default 72\n",
        "#pylab.rcParams['figure.figsize'] = (6.0, 4.0) # default (6,4)\n",
        "%config InlineBackend.figure_formats=['png'] # default for inline viewing\n",
        "#config InlineBackend.figure_formats=['svg'] # SVG inline viewing\n",
        "# %config InlineBackend.figure_formats=['pdf'] # render pdf figs for LaTeX"
      ],
      "outputs": [],
      "metadata": {
        "jupyter": {
          "outputs_hidden": false
        }
      }
    },
    {
      "cell_type": "markdown",
      "source": [
        "# Problema 1\n",
        " Usando a função stem() em Python calcule e plote as seguintes funções\n",
        "$$\n",
        "\\begin{align}\n",
        "    x_1[n] &= \\sin\\big(\\frac{\\pi}{5}n\\big),\\ 0\\leq n \\leq 15 \\\\\n",
        "    x_2[n] &= \\cos\\big(\\frac{3\\pi}{5}n\\big),\\ 0\\leq n \\leq 15 \\\\\n",
        "    x_3[n] &= \\sin\\big(\\frac{\\pi}{4}n\\big)\\cos\\big(\\frac{\\pi}{4}n\\big),\\ 0\\leq n \\leq 32\n",
        "\\end{align}\n",
        "$$\n",
        "Qual é o período da fundamental de cada sinal?"
      ],
      "metadata": {}
    },
    {
      "cell_type": "markdown",
      "source": [],
      "metadata": {}
    },
    {
      "cell_type": "markdown",
      "source": [
        "## Parte a - sinal $x_1[n]$\n",
        "O período da fundamental, $N$, é 10\n",
        "\n",
        "Como sabemos:\n",
        "    \n",
        "$N = \\frac{2\\pi}{\\Omega_0}K$ e $\\Omega_0 = \\frac{\\pi}{5}$\n",
        "\n",
        "Assim, substituindo os valores temos que \n",
        "\n",
        "$N = \\frac{2*5\\pi}{\\pi}K$\n",
        "\n",
        "$N = 10K$\n",
        "\n",
        "De forma que $N = 10$ e $K = 1$ \n",
        "\n",
        "No gráfico abaixo, é possível notar que o valor teórico é igual ao prático, já que o sinal começou a se repetir. \n",
        "\n",
        "No caso, o sinal para t=0 começa a se repetir a partir de t=10.\n"
      ],
      "metadata": {}
    },
    {
      "cell_type": "code",
      "execution_count": 82,
      "source": [
        "# numpy.linspace(start, stop, num=50, endpoint=True, retstep=False, dtype=None, axis=0)\n",
        "# numpy.sin(x, /, out=None, *, where=True, casting='same_kind', order='K', dtype=None, subok=True[, signature, extobj])\n",
        "# matplotlib.pyplot.stem(*args, linefmt=None, markerfmt=None, basefmt=None, bottom=0, label=None, use_line_collection=False, data=None)[source]\n",
        "\n",
        "#Através da biblioteca numpy crio 21 pontos, começando do ponto zero até o 20\n",
        "EixoX = np.linspace(0, 20, 21)\n",
        "\n",
        "#Obtenho os valores do eixo Y para esses 16 pontos\n",
        "EixoY = np.sin((np.pi * EixoX)/5)\n",
        "\n",
        "#Exibo o gráfico da função\n",
        "pylab.stem(EixoX, EixoY, use_line_collection = True)\n",
        "pylab.show()\n"
      ],
      "outputs": [
        {
          "output_type": "display_data",
          "data": {
            "image/png": "[encoded data removed]",
            "text/plain": [
              "<Figure size 432x288 with 1 Axes>"
            ]
          },
          "metadata": {
            "needs_background": "light"
          }
        }
      ],
      "metadata": {}
    },
    {
      "cell_type": "markdown",
      "source": [
        "## Parte b - sinal $x_2[n]$\n",
        "\n",
        "O período da fundamental, $N$, é 10\n",
        "\n",
        "Como sabemos:\n",
        "    \n",
        "$N = \\frac{2\\pi}{\\Omega_0}K$ e $\\Omega_0 = \\frac{3\\pi}{5}$\n",
        "\n",
        "Assim, substituindo os valores temos que \n",
        "\n",
        "$N = \\frac{2*5\\pi}{3\\pi}K$\n",
        "\n",
        "$N = \\frac{10}{3}K$\n",
        "\n",
        "De forma que $N = 3$ e $N = 10$ \n",
        "\n",
        "No gráfico abaixo, é possível notar que o valor teórico é igual ao prático, já que o sinal começou a se repetir. \n",
        "No caso, o sinal para t=0 começa a se repetir a partir de t=10."
      ],
      "metadata": {}
    },
    {
      "cell_type": "code",
      "execution_count": 83,
      "source": [
        "#Através da biblioteca numpy crio 21 pontos, começando do ponto zero até o 20\n",
        "EixoX = np.linspace(0, 20, 21)\n",
        "\n",
        "#Obtenho os valores desses 16 pontos de acordo com a função esperada\n",
        "EixoY = np.cos((3/5) * np.pi * EixoX)\n",
        "\n",
        "#Exibo o gráfico da função\n",
        "pylab.stem(EixoX, EixoY, use_line_collection = True)\n",
        "pylab.show()"
      ],
      "outputs": [
        {
          "output_type": "display_data",
          "data": {
            "image/png": "[encoded data removed]",
            "text/plain": [
              "<Figure size 432x288 with 1 Axes>"
            ]
          },
          "metadata": {
            "needs_background": "light"
          }
        }
      ],
      "metadata": {}
    },
    {
      "cell_type": "markdown",
      "source": [
        "## Parte c - sinal $x_3[n]$\n",
        "Para encontrar o período, primeiro expanda o produto usando uma relação trigonomêtrica apropriada:\n",
        "\n",
        "$$ x_3[n] = \\frac{1}{2}\\left[\\sin(0\\cdot n) + \\sin\\big(\\frac{\\pi}{2}n\\big)\\right], 0\\leq n\\leq 32 $$\n",
        "\n",
        "Como $sin(0*n) = 0$ para todo $n$, temos que:\n",
        "\n",
        "$$ x_3[n] = \\frac{1}{2}*sin(\\frac{\\pi}{2}n) $$\n",
        "\n",
        "O período da fundamental ($N$) é 4\n",
        "\n",
        "Como sabemos: $N = \\frac{2\\pi}{\\Omega_0}K$ e $\\Omega_0 = \\frac{\\pi}{2}$\n",
        "\n",
        "Assim, substituindo os valores temos que \n",
        "\n",
        "$N = \\frac{2*2\\pi}{\\pi}K$\n",
        "\n",
        "$N = 4K$\n",
        "\n",
        "De forma que $N = 4$ e $K = 1$ \n",
        "\n",
        "De acordo com o gráfico, é possível notar que temos N=4 assim como na conta acima"
      ],
      "metadata": {}
    },
    {
      "cell_type": "code",
      "execution_count": 84,
      "source": [
        "#Através da biblioteca numpy crio 21 pontos, começando do ponto zero até o 20\n",
        "n = np.linspace(0, 20, 21)\n",
        "EixoY = 1/2 * np.sin((np.pi * n) / 2)\n",
        "\n",
        "#Exibo o gráfico da função\n",
        "pylab.stem(n, EixoY, use_line_collection = True)\n",
        "pylab.show()"
      ],
      "outputs": [
        {
          "output_type": "display_data",
          "data": {
            "image/png": "[encoded data removed]",
            "text/plain": [
              "<Figure size 432x288 with 1 Axes>"
            ]
          },
          "metadata": {
            "needs_background": "light"
          }
        }
      ],
      "metadata": {}
    },
    {
      "cell_type": "markdown",
      "source": [
        "# Problema 2\n",
        "Usando a função `stem()` calcule e plote a o sinal\n",
        "$$\n",
        "x[n] = \\begin{cases}\n",
        "        2n+1, & -3\\leq n\\leq 3 \\\\\n",
        "        0, & \\text{otherwise}\n",
        "        \\end{cases}\n",
        "$$\n",
        "no intervalo $-8\\leq n\\leq 8$. \n",
        "\n",
        "OBS: Criar a função $x[n]$ sem o uso de loop!! Observe ainda que o módulo python “sk_dsp_comm.sigsys” possui a função drect() que serve para criar uma função janela - estude o exemplo python ex2.py fornecido na aba “Material para realização dos projetos”. "
      ],
      "metadata": {}
    },
    {
      "cell_type": "code",
      "execution_count": 85,
      "source": [
        "# numpy.arange([start, ]stop, [step, ]dtype=None, *, like=None)\n",
        "\n",
        "# crio um array pro intervalo solicitado\n",
        "n = np.arange(-8, 9)\n",
        "x = ss.drect(n + 3, 7)\n",
        "y = (2 * n) + 1\n",
        "yy = x * y\n",
        "\n",
        "#Exibo o gráfico da função\n",
        "plt.stem(n, yy, use_line_collection = True)\n",
        "plt.show()"
      ],
      "outputs": [
        {
          "output_type": "display_data",
          "data": {
            "image/png": "[encoded data removed]",
            "text/plain": [
              "<Figure size 432x288 with 1 Axes>"
            ]
          },
          "metadata": {
            "needs_background": "light"
          }
        }
      ],
      "metadata": {
        "id": "nxqzkXG6X_62",
        "colab": {
          "base_uri": "https://localhost:8080/",
          "height": 265
        },
        "outputId": "42b2ce26-3840-4bdf-c071-e6e86dc106a7"
      }
    },
    {
      "cell_type": "markdown",
      "source": [
        "# Problema 3\n",
        "Usando a função `stem()` calcule e plote o sinal\n",
        "$$\n",
        "    x[n] = u[n]u[8-n] + u[n-2]-u[n-5]\n",
        "$$\n",
        "no intervalo $-2\\leq n\\leq 16$.  Observe que o módulo  `sigsys`  (aliased  como  `ss`)  possui a função `dstep()` definida, a qual pode tornar esse problema bastante simples.\n",
        "\n",
        "OBS: Estude os exemplos ex1.py e ex2.py fornecidos na aba “Material para realização dos projetos”."
      ],
      "metadata": {
        "id": "UvfbOnwHX_62"
      }
    },
    {
      "cell_type": "code",
      "execution_count": 86,
      "source": [
        "# crio um array pro intervalo solicitado\n",
        "n = np.arange(-2, 17)\n",
        "x = ss.dstep(n) * ss.dstep(-n+8) + ss.dstep(n-2) - ss.dstep(n-5)\n",
        "\n",
        "#Exibo o gráfico da função\n",
        "plt.stem(n, x, use_line_collection = True)\n",
        "plt.show()"
      ],
      "outputs": [
        {
          "output_type": "display_data",
          "data": {
            "image/png": "[encoded data removed]",
            "text/plain": [
              "<Figure size 432x288 with 1 Axes>"
            ]
          },
          "metadata": {
            "needs_background": "light"
          }
        }
      ],
      "metadata": {
        "id": "TBkv4uCLX_63",
        "colab": {
          "base_uri": "https://localhost:8080/",
          "height": 265
        },
        "outputId": "bdb14c70-2b56-4ac3-bec3-123e5b10c01e"
      }
    },
    {
      "cell_type": "markdown",
      "source": [
        "# Problema 4\n",
        "Considere o sinal\n",
        "$$\n",
        "    y[n] = \\begin{cases}\n",
        "        2, & n=0 \\\\\n",
        "        1, & n=1 \\\\\n",
        "        -1, & n=3 \\\\\n",
        "        3, & n=4 \\\\\n",
        "        0, & \\text{caso contrário}\n",
        "    \\end{cases}\n",
        "$$"
      ],
      "metadata": {
        "id": "cwZ5dgh6X_63"
      }
    },
    {
      "cell_type": "markdown",
      "source": [
        "Escreva uma função python ($y[n]$) como indicado abaixo para que você possa responder as questões que seguem."
      ],
      "metadata": {
        "id": "q4GfWteWX_63"
      }
    },
    {
      "cell_type": "code",
      "execution_count": 87,
      "source": [
        "def y(n):\n",
        "    \"\"\"\n",
        "    Use a função dimpulse do módulo sigsys para diretamente definir \n",
        "    o sinal y[n]\n",
        "    \"\"\"\n",
        "    return 2 * ss.dimpulse(n) + 1 * ss.dimpulse(n-1) + (-1) * ss.dimpulse(n - 3) + 3 * ss.dimpulse(n - 4)"
      ],
      "outputs": [],
      "metadata": {
        "id": "U8eJ4TJQX_64"
      }
    },
    {
      "cell_type": "markdown",
      "source": [
        "## Parte a\n",
        "Usando a função `stem()` plote $z_1[n] = y[n-2]$."
      ],
      "metadata": {
        "id": "oHzrMUKyX_64"
      }
    },
    {
      "cell_type": "code",
      "execution_count": 88,
      "source": [
        "# crio um array com o intervalo de 5 até 10\n",
        "n = np.arange(-5, 11)\n",
        "\n",
        "#Exibo o gráfico utilizando a função y criada logo acima, usando parametro n - 2\n",
        "pylab.stem(n, y(n - 2), use_line_collection = True)\n",
        "pylab.show()"
      ],
      "outputs": [
        {
          "output_type": "display_data",
          "data": {
            "image/png": "[encoded data removed]",
            "text/plain": [
              "<Figure size 432x288 with 1 Axes>"
            ]
          },
          "metadata": {
            "needs_background": "light"
          }
        }
      ],
      "metadata": {
        "id": "KEQHx2CIX_64",
        "colab": {
          "base_uri": "https://localhost:8080/",
          "height": 265
        },
        "outputId": "317e4ea1-c5d7-48b5-ea77-17d750daf85a"
      }
    },
    {
      "cell_type": "markdown",
      "source": [
        "## Parte b\n",
        "Usando a função `stem()` plote $z_2[n] = y[n+2]$."
      ],
      "metadata": {
        "id": "pJ0Mfs7OX_65"
      }
    },
    {
      "cell_type": "code",
      "execution_count": 89,
      "source": [
        "# crio um array com o intervalo de 5 até 10\n",
        "n = np.arange(-5, 11)\n",
        "\n",
        "#Exibo o gráfico utilizando a função y criada logo acima, usando parametro n + 2\n",
        "pylab.stem(n, y(n + 2), use_line_collection = True)\n",
        "pylab.show()"
      ],
      "outputs": [
        {
          "output_type": "display_data",
          "data": {
            "image/png": "[encoded data removed]",
            "text/plain": [
              "<Figure size 432x288 with 1 Axes>"
            ]
          },
          "metadata": {
            "needs_background": "light"
          }
        }
      ],
      "metadata": {
        "id": "yKI5c8ktX_65",
        "colab": {
          "base_uri": "https://localhost:8080/",
          "height": 265
        },
        "outputId": "458c7755-4043-4d35-e007-e68e69723398"
      }
    },
    {
      "cell_type": "markdown",
      "source": [
        "## Parte c\n",
        "Usando a função `stem()` plote $z_3[n] = y[-n]$."
      ],
      "metadata": {
        "id": "iqgDHRBSX_65"
      }
    },
    {
      "cell_type": "code",
      "execution_count": 90,
      "source": [
        "# crio um array com o intervalo de 5 até 10\n",
        "n = np.arange(-5, 11)\n",
        "\n",
        "#Exibo o gráfico utilizando a função y criada logo acima, usando parametro -n\n",
        "pylab.stem(n, y(-n), use_line_collection = True)\n",
        "pylab.show()"
      ],
      "outputs": [
        {
          "output_type": "display_data",
          "data": {
            "image/png": "[encoded data removed]",
            "text/plain": [
              "<Figure size 432x288 with 1 Axes>"
            ]
          },
          "metadata": {
            "needs_background": "light"
          }
        }
      ],
      "metadata": {
        "id": "c5lVrYbkX_65",
        "colab": {
          "base_uri": "https://localhost:8080/",
          "height": 265
        },
        "outputId": "e8471b85-b191-48f4-f2a2-bd40e59078fb"
      }
    },
    {
      "cell_type": "markdown",
      "source": [
        "# Problema 5\n",
        "Dado os sinais abaixo:\n",
        "$$\n",
        "\\begin{align}\n",
        "    x_1[n] &= \\{1,2,-3,2,1,1\\} \\;\\;\\;\\; h_1[n] = \\{1,2,-3\\}\\\\\n",
        "    x_2[n] &= \\{0,0,0,0,1,1,1,1,0,0,0,0,-1,-1,-1,-1,0,0,0,0\\}  \\;\\;\\;\\;  h_{2}[n]=\\{1,4,10,16,19,16,10,4,1\\}\n",
        "\\end{align}\n",
        "$$"
      ],
      "metadata": {}
    },
    {
      "cell_type": "markdown",
      "source": [
        "## Parte a\n",
        "Escrever uma função na linguagem python (__\"sem usar funções prontas de qualquer biblioteca\"__) para fazer a __convolução__ entre dois sinais unidimensionais (1D). "
      ],
      "metadata": {}
    },
    {
      "cell_type": "code",
      "execution_count": 91,
      "source": [
        "def conv(x, h):\n",
        "\n",
        "  size = len(x) + len(h) - 1\n",
        "\n",
        "  y = []\n",
        "  for i in range(size):\n",
        "    y.append(0)\n",
        "\n",
        "  while size >= len(x):\n",
        "    x.append(0)\n",
        "\n",
        "  while size >= len(h):\n",
        "    h.append(0)\n",
        "\n",
        "  for n in range(size):\n",
        "    for k in range(size):\n",
        "      y[n] += x[k] * h[n - k]\n",
        "      \n",
        "  return y"
      ],
      "outputs": [],
      "metadata": {}
    },
    {
      "cell_type": "markdown",
      "source": [
        "## Parte b\n",
        "Faça a convolução entre os sinais $x_1*h_1$ e $x_2*h_2$ e plote usando a função stem os sinais originais e os resultados das convoluções."
      ],
      "metadata": {}
    },
    {
      "cell_type": "code",
      "execution_count": 92,
      "source": [
        "# primeira convolução\n",
        "x1 = [1, 2, -3, 2, 1, 1]\n",
        "h1 = [1, 2, -3]\n",
        "\n",
        "y = conv(x1, h1)\n",
        "n = np.arange(0, len(y)) # crio um array com o intervalo de 0 até 7\n",
        "\n",
        "#Exibo o gráfico da primeira convolução\n",
        "pylab.stem(n, y, use_line_collection = True)\n",
        "pylab.show()"
      ],
      "outputs": [
        {
          "output_type": "display_data",
          "data": {
            "image/png": "[encoded data removed]",
            "text/plain": [
              "<Figure size 432x288 with 1 Axes>"
            ]
          },
          "metadata": {
            "needs_background": "light"
          }
        }
      ],
      "metadata": {}
    },
    {
      "cell_type": "code",
      "execution_count": 93,
      "source": [
        "# segunda convolução\n",
        "x2 = [0, 0, 0, 0, 1, 1, 1, 1, 0, 0, 0, 0, -1, -1, -1, -1, 0, 0, 0, 0]\n",
        "h2 = [1, 4, 10, 16, 19, 16, 10, 4, 1]\n",
        "\n",
        "y = conv(x2, h2)\n",
        "n = np.arange(0, len(y))  # crio uma lista com o intervalo de 0 até 27\n",
        "\n",
        "#Exibo o gráfico da segunda convolução\n",
        "pylab.stem(n, y, use_line_collection = True)\n",
        "pylab.show()"
      ],
      "outputs": [
        {
          "output_type": "display_data",
          "data": {
            "image/png": "[encoded data removed]",
            "text/plain": [
              "<Figure size 432x288 with 1 Axes>"
            ]
          },
          "metadata": {
            "needs_background": "light"
          }
        }
      ],
      "metadata": {}
    },
    {
      "cell_type": "markdown",
      "source": [
        "## Parte c\n",
        "De maneira similar à \"Parte b\" do exercício, usando __o mesmo código da função convolução__, faça a __correlação__ entre os sinais e plote os resultados.\n",
        "\n",
        "Dica, lembre-se que:\n",
        "\n",
        "Convolução: $ y[n] = \\sum_{k=-\\infty}^{\\infty} x[k]h[n-k]$\n",
        "\n",
        "Correlação: $ y[n] = \\sum_{k=-\\infty}^{\\infty} x[k]h[n+k]$"
      ],
      "metadata": {}
    },
    {
      "cell_type": "code",
      "execution_count": 94,
      "source": [
        "# primeira convolução\n",
        "x1 = [1, 2, -3, 2, 1, 1]\n",
        "h1 = [1, 2, -3]\n",
        "\n",
        "h1.reverse() #inverto a lista\n",
        "y = conv(x1, h1)\n",
        "n = np.arange(0, len(y)) # crio um array com o intervalo de 0 até 7\n",
        "\n",
        "#Exibo o gráfico da função\n",
        "pylab.stem(n, y, use_line_collection = True)\n",
        "pylab.show()"
      ],
      "outputs": [
        {
          "output_type": "display_data",
          "data": {
            "image/png": "[encoded data removed]",
            "text/plain": [
              "<Figure size 432x288 with 1 Axes>"
            ]
          },
          "metadata": {
            "needs_background": "light"
          }
        }
      ],
      "metadata": {}
    },
    {
      "cell_type": "code",
      "execution_count": 95,
      "source": [
        "# segunda convolução\n",
        "x2 = [0, 0, 0, 0, 1, 1, 1, 1, 0, 0, 0, 0, -1, -1, -1, -1, 0, 0, 0, 0]\n",
        "h2 = [1, 4, 10, 16, 19, 16, 10, 4, 1]\n",
        "\n",
        "y = conv(x2, h2) # como h2 é palíndromo, não foi necessário inverter pois se trata da mesma lista\n",
        "n = np.arange(0, len(y)) # crio uma lista com o intervalo de 0 até 27\n",
        "\n",
        "#Exibo o gráfico da função\n",
        "pylab.stem(n, y, use_line_collection = True)\n",
        "pylab.show()"
      ],
      "outputs": [
        {
          "output_type": "display_data",
          "data": {
            "image/png": "[encoded data removed]",
            "text/plain": [
              "<Figure size 432x288 with 1 Axes>"
            ]
          },
          "metadata": {
            "needs_background": "light"
          }
        }
      ],
      "metadata": {
        "colab": {
          "base_uri": "https://localhost:8080/",
          "height": 265
        },
        "id": "rRsTV4s9IV0T",
        "outputId": "1a0654a0-133f-4607-bd8d-c2a8086b6bff"
      }
    },
    {
      "cell_type": "markdown",
      "source": [
        "## Parte d\n",
        "Utilize agora a função da biblioteca numpy (numpy.convolve) para realizar as mesmas convoluções da \"Parte a\". Use a função numpy.convolve - mode{‘full’} e discuta os resultados."
      ],
      "metadata": {
        "id": "xSu19HIEX_68"
      }
    },
    {
      "cell_type": "code",
      "execution_count": 96,
      "source": [
        "# primeira convolução\n",
        "x1 = [1, 2, -3, 2, 1, 1]\n",
        "h1 = [1, 2, -3]\n",
        "\n",
        "y = np.convolve(x1, h1, mode='full')\n",
        "n = np.arange(0, len(y))\n",
        "\n",
        "#Exibo o gráfico da função\n",
        "pylab.stem(n, y, use_line_collection = True)\n",
        "pylab.show()\n",
        "\n",
        "\n",
        "# Foi obtibo o mesmo gráfico, porém o tempo de execução da função numpy.convolve foi inferior se comparado com a \n",
        "# função realizada pelo nosso grupo\n",
        "\n",
        "#   nossa função: 0.3s\n",
        "# numpy.convolve: 0.2s\n"
      ],
      "outputs": [
        {
          "output_type": "display_data",
          "data": {
            "image/png": "[encoded data removed]",
            "text/plain": [
              "<Figure size 432x288 with 1 Axes>"
            ]
          },
          "metadata": {
            "needs_background": "light"
          }
        }
      ],
      "metadata": {
        "id": "5Eu085PjX_68",
        "colab": {
          "base_uri": "https://localhost:8080/",
          "height": 268
        },
        "outputId": "ba0742e9-2b22-4210-8a6d-5d61e2ab54ff"
      }
    },
    {
      "cell_type": "code",
      "execution_count": 97,
      "source": [
        "# segunda convolução\n",
        "x2 = [0, 0, 0, 0, 1, 1, 1, 1, 0, 0, 0, 0, -1, -1, -1, -1, 0, 0, 0, 0]\n",
        "h2 = [1, 4, 10, 16, 19, 16, 10, 4, 1]\n",
        "\n",
        "y = np.convolve(x2, h2, mode='full')\n",
        "n = np.arange(0, len(y))\n",
        "\n",
        "#Exibo o gráfico da função\n",
        "pylab.stem(n, y, use_line_collection = True)\n",
        "pylab.show()\n",
        "\n",
        "# Foi obtibo o mesmo gráfico, porém o tempo de execução da função numpy.convolve foi novamente inferior se comparado com a \n",
        "# função realizada pelo nosso grupo\n",
        "\n",
        "#   nossa função: 0.4s\n",
        "# numpy.convolve: 0.3s"
      ],
      "outputs": [
        {
          "output_type": "display_data",
          "data": {
            "image/png": "[encoded data removed]",
            "text/plain": [
              "<Figure size 432x288 with 1 Axes>"
            ]
          },
          "metadata": {
            "needs_background": "light"
          }
        }
      ],
      "metadata": {
        "colab": {
          "base_uri": "https://localhost:8080/",
          "height": 265
        },
        "id": "kSEcf9PrJLx9",
        "outputId": "57c7d77d-40b7-4ed2-f2e6-67fcd8c62776"
      }
    },
    {
      "cell_type": "code",
      "execution_count": null,
      "source": [],
      "outputs": [],
      "metadata": {
        "id": "DSM00gbqJ1Rk"
      }
    }
  ]
}