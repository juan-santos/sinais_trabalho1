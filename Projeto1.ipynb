{
 "cells": [
  {
   "cell_type": "markdown",
   "source": [
    "# 1o Trabalho de PSD (notebook para preencher com os resultados)"
   ],
   "metadata": {}
  },
  {
   "cell_type": "markdown",
   "source": [
    "### Número do Grupo : `14`"
   ],
   "metadata": {}
  },
  {
   "cell_type": "code",
   "execution_count": 1,
   "source": [
    "import sk_dsp_comm.sigsys as ss\n",
    "import numpy as np\n",
    "from matplotlib import pylab\n",
    "from pylab import *\n",
    "import scipy.signal as signal\n",
    "from IPython.display import Audio, display\n",
    "from IPython.display import Image, SVG"
   ],
   "outputs": [],
   "metadata": {
    "jupyter": {
     "outputs_hidden": false
    }
   }
  },
  {
   "cell_type": "code",
   "execution_count": 2,
   "source": [
    "pylab.rcParams['savefig.dpi'] = 100 # default 72\n",
    "#pylab.rcParams['figure.figsize'] = (6.0, 4.0) # default (6,4)\n",
    "#%config InlineBackend.figure_formats=['png'] # default for inline viewing\n",
    "#config InlineBackend.figure_formats=['svg'] # SVG inline viewing\n",
    "%config InlineBackend.figure_formats=['pdf'] # render pdf figs for LaTeX"
   ],
   "outputs": [],
   "metadata": {
    "jupyter": {
     "outputs_hidden": false
    }
   }
  },
  {
   "cell_type": "markdown",
   "source": [
    "# Problema 1\n",
    " Usando a função stem() em Python calcule e plote as seguintes funções\n",
    "$$\n",
    "\\begin{align}\n",
    "    x_1[n] &= \\sin\\big(\\frac{\\pi}{5}n\\big),\\ 0\\leq n \\leq 15 \\\\\n",
    "    x_2[n] &= \\cos\\big(\\frac{3\\pi}{5}n\\big),\\ 0\\leq n \\leq 15 \\\\\n",
    "    x_3[n] &= \\sin\\big(\\frac{\\pi}{4}n\\big)\\cos\\big(\\frac{\\pi}{4}n\\big),\\ 0\\leq n \\leq 32\n",
    "\\end{align}\n",
    "$$\n",
    "Qual é o período da fundamental de cada sinail?"
   ],
   "metadata": {}
  },
  {
   "cell_type": "markdown",
   "source": [
    "## Parte a - sinal $x_1[n]$\n",
    "O período da fundamental, $N$, é\n",
    "\n",
    "`adicione o resultado aqui e explicação de como ele foi determinado`"
   ],
   "metadata": {}
  },
  {
   "cell_type": "code",
   "execution_count": 3,
   "source": [
    "# escreva o seu código aqui"
   ],
   "outputs": [],
   "metadata": {}
  },
  {
   "cell_type": "markdown",
   "source": [
    "## Parte b - sinal $x_2[n]$\n",
    "O período da fundamental, $N$, é\n",
    "\n",
    "`adicione o resultado aqui e explicação de como ele foi determinado`"
   ],
   "metadata": {}
  },
  {
   "cell_type": "code",
   "execution_count": 4,
   "source": [
    "# escreva o seu código aqui"
   ],
   "outputs": [],
   "metadata": {}
  },
  {
   "cell_type": "markdown",
   "source": [
    "## Parte c - sinal $x_3[n]$\n",
    "Para encontrar o período, primeiro expanda o produto usando uma relação trigonomêtrica apropriada:\n",
    "$$\n",
    "    x_3[n] = \\frac{1}{2}\\left[\\sin(0\\cdot n) + \\sin\\big(\\frac{\\pi}{2}n\\big)\\right], 0\\leq n\\leq 32\n",
    "$$\n",
    "Você deve escolher $N$ tal que $\\ldots$\n",
    "\n",
    "`adicione o resultado aqui e explicação de como ele foi determinado`\n"
   ],
   "metadata": {}
  },
  {
   "cell_type": "code",
   "execution_count": 5,
   "source": [
    "# escreva o seu código aqui"
   ],
   "outputs": [],
   "metadata": {}
  },
  {
   "cell_type": "markdown",
   "source": [
    "# Problema 2\n",
    "Usando a função `stem()` calcule e plote a o sinal\n",
    "$$\n",
    "x[n] = \\begin{cases}\n",
    "        2n+1, & -3\\leq n\\leq 3 \\\\\n",
    "        0, & \\text{otherwise}\n",
    "        \\end{cases}\n",
    "$$\n",
    "no intervalo $-8\\leq n\\leq 8$. \n",
    "\n",
    "OBS: Criar a função $x[n]$ sem o uso de loop!! Observe ainda que o módulo python “sk_dsp_comm.sigsys” possui a função drect() que serve para criar uma função janela - estude o exemplo python ex2.py fornecido na aba “Material para realização dos projetos”. "
   ],
   "metadata": {}
  },
  {
   "cell_type": "code",
   "execution_count": 6,
   "source": [
    "# escreva o seu código aqui"
   ],
   "outputs": [],
   "metadata": {}
  },
  {
   "cell_type": "markdown",
   "source": [
    "# Problema 3\n",
    "Usando a função `stem()` calcule e plote o sinal\n",
    "$$\n",
    "    x[n] = u[n]u[8-n] + u[n-2]-u[n-5]\n",
    "$$\n",
    "no intervalo $-2\\leq n\\leq 16$.  Observe que o módulo  `sigsys`  (aliased  como  `ss`)  possui a função `dstep()` definida, a qual pode tornar esse problema bastante simples.\n",
    "\n",
    "OBS: Estude os exemplos ex1.py e ex2.py fornecidos na aba “Material para realização dos projetos”."
   ],
   "metadata": {}
  },
  {
   "cell_type": "code",
   "execution_count": 7,
   "source": [
    "# escreva o seu código aqui"
   ],
   "outputs": [],
   "metadata": {}
  },
  {
   "cell_type": "markdown",
   "source": [
    "# Problema 4\n",
    "Considere o sinal\n",
    "$$\n",
    "    y[n] = \\begin{cases}\n",
    "        2, & n=0 \\\\\n",
    "        1, & n=1 \\\\\n",
    "        -1, & n=3 \\\\\n",
    "        3, & n=4 \\\\\n",
    "        0, & \\text{caso contrário}\n",
    "    \\end{cases}\n",
    "$$"
   ],
   "metadata": {}
  },
  {
   "cell_type": "markdown",
   "source": [
    "Escreva uma função python ($y[n]$) como indicado abaixo para que você possa responder as questões que seguem."
   ],
   "metadata": {}
  },
  {
   "cell_type": "code",
   "execution_count": 8,
   "source": [
    "def y(n):\n",
    "    \"\"\"\n",
    "    Use a função dimpulse do módulo sigsys para diretamente definir \n",
    "    o sinal y[n]\n",
    "    \"\"\"\n",
    "    # # insira seu código aqui\n",
    "    return yy"
   ],
   "outputs": [],
   "metadata": {}
  },
  {
   "cell_type": "markdown",
   "source": [
    "## Parte a\n",
    "Usando a função `stem()` plote $z_1[n] = y[n-2]$."
   ],
   "metadata": {}
  },
  {
   "cell_type": "code",
   "execution_count": 9,
   "source": [
    "# escreva o seu código aqui"
   ],
   "outputs": [],
   "metadata": {}
  },
  {
   "cell_type": "markdown",
   "source": [
    "## Parte b\n",
    "Usando a função `stem()` plote $z_2[n] = y[n+2]$."
   ],
   "metadata": {}
  },
  {
   "cell_type": "code",
   "execution_count": 10,
   "source": [
    "# escreva o seu código aqui"
   ],
   "outputs": [],
   "metadata": {}
  },
  {
   "cell_type": "markdown",
   "source": [
    "## Parte c\n",
    "Usando a função `stem()` plote $z_3[n] = y[-n]$."
   ],
   "metadata": {}
  },
  {
   "cell_type": "code",
   "execution_count": 11,
   "source": [
    "# escreva o seu código aqui"
   ],
   "outputs": [],
   "metadata": {}
  },
  {
   "cell_type": "markdown",
   "source": [
    "# Problema 5\n",
    "Dado os sinais abaixo:\n",
    "$$\n",
    "\\begin{align}\n",
    "    x_1[n] &= \\{1,2,-3,2,1,1\\} \\;\\;\\;\\; h_1[n] = \\{1,2,-3\\}\\\\\n",
    "    x_2[n] &= \\{0,0,0,0,1,1,1,1,0,0,0,0,-1,-1,-1,-1,0,0,0,0\\}$  \\;\\;\\;\\;  h_{2}[n]=\\{1,4,10,16,19,16,10,4,1\\}\n",
    "\\end{align}\n",
    "$$"
   ],
   "metadata": {}
  },
  {
   "cell_type": "markdown",
   "source": [
    "## Parte a\n",
    "Escrever uma função na linguagem python (__\"sem usar funções prontas de qualquer biblioteca\"__) para fazer a __convolução__ entre dois sinais unidimensionais (1D). "
   ],
   "metadata": {}
  },
  {
   "cell_type": "code",
   "execution_count": 12,
   "source": [
    "def conv(x,h):\n",
    "    # insira seu código aqui\n",
    "    return y"
   ],
   "outputs": [],
   "metadata": {}
  },
  {
   "cell_type": "markdown",
   "source": [
    "## Parte b\n",
    "Faça a convolução entre os sinais $x_1*h_1$ e $x_2*h_2$ e plote usando a função stem os sinais originais e os resultados das convoluções."
   ],
   "metadata": {}
  },
  {
   "cell_type": "code",
   "execution_count": 13,
   "source": [
    "# escreva o seu código aqui"
   ],
   "outputs": [],
   "metadata": {}
  },
  {
   "cell_type": "markdown",
   "source": [
    "## Parte c\n",
    "De maneira similar à \"Parte b\" do exercício, usando __o mesmo código da função convolução__, faça a __correlação__ entre os sinais e plote os resultados.\n",
    "\n",
    "Dica, lembre-se que:\n",
    "\n",
    "Convolução: $ y[n] = \\sum_{k=-\\infty}^{\\infty} x[k]h[n-k]$\n",
    "\n",
    "Correlação: $ y[n] = \\sum_{k=-\\infty}^{\\infty} x[k]h[n+k]$"
   ],
   "metadata": {}
  },
  {
   "cell_type": "code",
   "execution_count": 14,
   "source": [
    "# escreva o seu código aqui"
   ],
   "outputs": [],
   "metadata": {}
  },
  {
   "cell_type": "markdown",
   "source": [
    "## Parte d\n",
    "Utilize agora a função da biblioteca numpy (numpy.convolve) para realizar as mesmas convoluções da \"Parte a\". Use a função numpy.convolve - mode{‘full’} e discuta os resultados."
   ],
   "metadata": {}
  },
  {
   "cell_type": "code",
   "execution_count": 15,
   "source": [
    "# escreva o seu código aqui"
   ],
   "outputs": [],
   "metadata": {}
  }
 ],
 "metadata": {
  "kernelspec": {
   "name": "python3",
   "display_name": "Python 3.8.10 64-bit"
  },
  "language_info": {
   "codemirror_mode": {
    "name": "ipython",
    "version": 3
   },
   "file_extension": ".py",
   "mimetype": "text/x-python",
   "name": "python",
   "nbconvert_exporter": "python",
   "pygments_lexer": "ipython3",
   "version": "3.8.10"
  },
  "widgets": {
   "application/vnd.jupyter.widget-state+json": {
    "state": {},
    "version_major": 2,
    "version_minor": 0
   }
  },
  "interpreter": {
   "hash": "31f2aee4e71d21fbe5cf8b01ff0e069b9275f58929596ceb00d14d90e3e16cd6"
  }
 },
 "nbformat": 4,
 "nbformat_minor": 4
}